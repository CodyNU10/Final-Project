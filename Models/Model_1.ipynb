{
 "cells": [
  {
   "cell_type": "markdown",
   "id": "42464236",
   "metadata": {},
   "source": [
    "Decided to switch to Classification problem and split number of teams into two categories: Playoff Team/Non-Playoff Team where 10 wins and above is classified as a playoff team"
   ]
  },
  {
   "cell_type": "code",
   "execution_count": 40,
   "id": "a351e97e",
   "metadata": {},
   "outputs": [],
   "source": [
    "import pandas as pd\n",
    "import numpy as np\n",
    "import time\n",
    "import statsmodels.formula.api as sm\n",
    "import seaborn as sns\n",
    "import matplotlib.pyplot as plt\n",
    "import itertools\n",
    "\n",
    "# 2017 data\n",
    "data_2017 = pd.read_csv(\"2017_data.txt\")\n",
    "NFC_2017 = pd.read_csv(\"NFC_2017.txt\")\n",
    "AFC_2017 = pd.read_csv(\"AFC_2017.txt\")\n",
    "\n",
    "# 2018 data\n",
    "data_2018 = pd.read_csv(\"2018_data.txt\")\n",
    "NFC_2018 = pd.read_csv(\"NFC_2018.txt\")\n",
    "AFC_2018 = pd.read_csv(\"AFC_2018.txt\")\n",
    "\n",
    "# 2019 data\n",
    "data_2019 = pd.read_csv(\"2019_data.txt\")\n",
    "NFC_2019 = pd.read_csv(\"NFC_2019.txt\")\n",
    "AFC_2019 = pd.read_csv(\"AFC_2019.txt\")\n",
    "\n",
    "# 2020 data\n",
    "data_2020 = pd.read_csv(\"2020_data.txt\")\n",
    "NFC_2020 = pd.read_csv(\"NFC_2020.txt\")\n",
    "AFC_2020 = pd.read_csv(\"AFC_2020.txt\")\n",
    "\n",
    "# 2021 data\n",
    "data_2021 = pd.read_csv(\"2021_data.txt\")\n",
    "NFC_2021 = pd.read_csv(\"NFC_2021.txt\")\n",
    "AFC_2021 = pd.read_csv(\"AFC_2021.txt\")"
   ]
  },
  {
   "cell_type": "code",
   "execution_count": 41,
   "id": "b21985ce",
   "metadata": {},
   "outputs": [],
   "source": [
    "# function to acquire training data function\n",
    "def get_data(data, afc_wins , nfc_wins, year):\n",
    "    team_wins_year = pd.concat((nfc_wins,afc_wins),axis = 0).reset_index(drop=True) # combining all team win totals together\n",
    "    data_year = pd.merge(team_wins_year,data) # merging offensive data and number of wins \n",
    "    data_year = data_year.rename(columns={\"Yds.1\": \"Pass_Yds\", \"1stD.1\": \"Pass_1stD\", \"Yds.2\": \"Rush_Yds\",\"TD.1\" : \"Rush_TD\", \"1stD.2\" : \"Rush_1stD\", \"Yds.3\" : \"Pen_Yds\",\"Y/P\": \"YardsPerPass\", \"Y/A\": \"YardsPerAttempt\", \"TO%\": \"TOPerc\",\"Sc%\":\"ScPerc\"})\n",
    "    return data_year\n",
    "# funning function for 2017-2021 data\n",
    "data_2017 = get_data(data_2017,AFC_2017,NFC_2017,2017)\n",
    "data_2018 = get_data(data_2018,AFC_2018,NFC_2018,2018)\n",
    "data_2019 = get_data(data_2019,AFC_2019,NFC_2019,2019)\n",
    "data_2020 = get_data(data_2020,AFC_2020,NFC_2020,2020)\n",
    "data_2021 = get_data(data_2021,AFC_2021,NFC_2021,2021)"
   ]
  },
  {
   "cell_type": "code",
   "execution_count": 42,
   "id": "5ceed6c1",
   "metadata": {},
   "outputs": [],
   "source": [
    "# appending all training data together into one data set\n",
    "one = pd.concat((data_2017,data_2018)).reset_index(drop=True)\n",
    "two = pd.concat((one,data_2019)).reset_index(drop=True)\n",
    "three = pd.concat((two,data_2020)).reset_index(drop=True)\n",
    "four = pd.concat((three,data_2021)).reset_index(drop=True)\n",
    "train_data = four"
   ]
  },
  {
   "cell_type": "code",
   "execution_count": 43,
   "id": "7534ef00",
   "metadata": {},
   "outputs": [],
   "source": [
    "# test data\n",
    "data_2022 = pd.read_csv(\"2022_data.txt\")\n",
    "NFC_2022 = pd.read_csv(\"NFC_2022.txt\")\n",
    "AFC_2022 = pd.read_csv(\"AFC_2022.txt\")"
   ]
  },
  {
   "cell_type": "code",
   "execution_count": 44,
   "id": "0e8bfc7c",
   "metadata": {},
   "outputs": [],
   "source": [
    "# function to get test data and actual number of wins\n",
    "def get_test_data(data, afc_wins , nfc_wins, year):\n",
    "    team_wins_year = pd.concat((nfc_wins,afc_wins),axis = 0).reset_index(drop=True)\n",
    "    data = pd.merge(team_wins_year,data)\n",
    "    data = data.rename(columns={\"Yds.1\": \"Pass_Yds\", \"1stD.1\": \"Pass_1stD\", \"Yds.2\": \"Rush_Yds\",\"TD.1\" : \"Rush_TD\", \"1stD.2\" : \"Rush_1stD\", \"Yds.3\" : \"Pen_Yds\",\"Y/P\": \"YardsPerPass\", \"Y/A\": \"YardsPerAttempt\", \"TO%\": \"TOPerc\",\"Sc%\":\"ScPerc\"})\n",
    "    return data\n",
    "test_data = get_test_data(data_2022,AFC_2022,NFC_2022,2022)\n",
    "actual = test_data[\"W\"]\n",
    "test_data = test_data.drop('W',axis =1)\n",
    "actual = [1 if x >= 10 else 0 for x in actual]"
   ]
  },
  {
   "cell_type": "code",
   "execution_count": 45,
   "id": "bffce806",
   "metadata": {},
   "outputs": [],
   "source": [
    "#rename columns\n",
    "train_data = train_data.rename(columns={\"Yds.1\": \"Pass_Yds\", \"1stD.1\": \"Pass_1stD\", \"Yds.2\": \"Rush_Yds\",\"TD.1\" : \"Rush_TD\", \"1stD.2\" : \"Rush_1stD\", \"Yds.3\" : \"Pen_Yds\",\"Y/P\": \"YardsPerPass\", \"Y/A\": \"YardsPerAttempt\", \"TO%\": \"TOPerc\",\"Sc%\":\"ScPerc\", \"Att\":\"Pass_Att\",\"Att.1\":\"Rush_Att\", \"NY/A\":\"NYA\",\"1stPy\":\"Tot_1stPy\",\"1stD\":\"Tot_1stD\"})\n",
    "test_data = test_data.rename(columns={\"Yds.1\": \"Pass_Yds\", \"1stD.1\": \"Pass_1stD\", \"Yds.2\": \"Rush_Yds\",\"TD.1\" : \"Rush_TD\", \"1stD.2\" : \"Rush_1stD\", \"Yds.3\" : \"Pen_Yds\",\"Y/P\": \"YardsPerPass\", \"Y/A\": \"YardsPerAttempt\", \"TO%\": \"TOPerc\",\"Sc%\":\"ScPerc\", \"Att\":\"Pass_Att\",\"Att.1\":\"Rush_Att\", \"NY/A\":\"NYA\",\"1stPy\":\"Tot_1stPy\",\"1stD\":\"Tot_1stD\"})"
   ]
  },
  {
   "cell_type": "markdown",
   "id": "9518dc54",
   "metadata": {},
   "source": [
    "Used forward selection to acquire features to use in model"
   ]
  },
  {
   "cell_type": "code",
   "execution_count": 46,
   "id": "8ce4f5db",
   "metadata": {},
   "outputs": [],
   "source": [
    "#Function to develop a model based on all predictors in predictor_subset\n",
    "def processSubset(predictor_subset):\n",
    "    # Fit model on feature_set and calculate R-squared\n",
    "    model = sm.ols('W ~' + '+'.join(predictor_subset),data = train_data).fit()\n",
    "    Rsquared = model.rsquared\n",
    "    return {\"model\":model, \"Rsquared\":Rsquared}"
   ]
  },
  {
   "cell_type": "code",
   "execution_count": 47,
   "id": "afd93388",
   "metadata": {},
   "outputs": [],
   "source": [
    "#Function to select the best model amongst all models with 'k' predictors\n",
    "def getBest_model(k):\n",
    "    tic = time.time()\n",
    "    results = []\n",
    "    for combo in itertools.combinations(X.columns, k):\n",
    "        results.append(processSubset((list(combo))))\n",
    "\n",
    "    # Wrap everything up in a dataframe\n",
    "    models = pd.DataFrame(results)\n",
    "\n",
    "    # Choose the model with the highest RSS\n",
    "    best_model = models.loc[models['Rsquared'].argmax()]\n",
    "    \n",
    "    toc = time.time()\n",
    "    print(\"Processed\", models.shape[0], \"models on\", k, \"predictors in\", (toc-tic), \"seconds.\")\n",
    "    return best_model"
   ]
  },
  {
   "cell_type": "code",
   "execution_count": 48,
   "id": "eaa3aad0",
   "metadata": {},
   "outputs": [],
   "source": [
    "def best_sub_plots():\n",
    "    plt.figure(figsize=(20,10))\n",
    "    plt.rcParams.update({'font.size': 18, 'lines.markersize': 10})\n",
    "\n",
    "    # Set up a 2x2 grid so we can look at 4 plots at once\n",
    "    plt.subplot(2, 2, 1)\n",
    "\n",
    "    # We will now plot a red dot to indicate the model with the largest adjusted R^2 statistic.\n",
    "    # The argmax() function can be used to identify the location of the maximum point of a vector\n",
    "    plt.plot(models_best[\"Rsquared\"])\n",
    "    plt.xlabel('# Predictors')\n",
    "    plt.ylabel('Rsquared')\n",
    "\n",
    "    # We will now plot a red dot to indicate the model with the largest adjusted R^2 statistic.\n",
    "    # The argmax() function can be used to identify the location of the maximum point of a vector\n",
    "\n",
    "    rsquared_adj = models_best.apply(lambda row: row[1].rsquared_adj, axis=1)\n",
    "\n",
    "    plt.subplot(2, 2, 2)\n",
    "    plt.plot(rsquared_adj)\n",
    "    plt.plot(1+rsquared_adj.argmax(), rsquared_adj.max(), \"or\")\n",
    "    plt.xlabel('# Predictors')\n",
    "    plt.ylabel('adjusted rsquared')\n",
    "\n",
    "    # We'll do the same for AIC and BIC, this time looking for the models with the SMALLEST statistic\n",
    "    aic = models_best.apply(lambda row: row[1].aic, axis=1)\n",
    "\n",
    "    plt.subplot(2, 2, 3)\n",
    "    plt.plot(aic)\n",
    "    plt.plot(1+aic.argmin(), aic.min(), \"or\")\n",
    "    plt.xlabel('# Predictors')\n",
    "    plt.ylabel('AIC')\n",
    "\n",
    "    bic = models_best.apply(lambda row: row[1].bic, axis=1)\n",
    "\n",
    "    plt.subplot(2, 2, 4)\n",
    "    plt.plot(bic)\n",
    "    plt.plot(1+bic.argmin(), bic.min(), \"or\")\n",
    "    plt.xlabel('# Predictors')\n",
    "    plt.ylabel('BIC')"
   ]
  },
  {
   "cell_type": "code",
   "execution_count": 49,
   "id": "48de3a99",
   "metadata": {},
   "outputs": [],
   "source": [
    "#Function to find the best predictor out of p-k predictors and add it to the model containing the k predictors\n",
    "def forward(predictors):\n",
    "\n",
    "    # Pull out predictors we still need to process\n",
    "    remaining_predictors = [p for p in X.columns if p not in predictors]\n",
    "    \n",
    "    tic = time.time()\n",
    "    \n",
    "    results = []\n",
    "    \n",
    "    for p in remaining_predictors:\n",
    "        results.append(processSubset(predictors+[p]))\n",
    "    \n",
    "    # Wrap everything up in a nice dataframe\n",
    "    models = pd.DataFrame(results)\n",
    "    \n",
    "    # Choose the model with the highest RSS\n",
    "    best_model = models.loc[models['Rsquared'].argmax()]\n",
    "    \n",
    "    toc = time.time()\n",
    "    print(\"Processed \", models.shape[0], \"models on\", len(predictors)+1, \"predictors in\", (toc-tic), \"seconds.\")\n",
    "    \n",
    "    # Return the best model, along with some other useful information about the model\n",
    "    return best_model"
   ]
  },
  {
   "cell_type": "code",
   "execution_count": 50,
   "id": "32b1f5a3",
   "metadata": {},
   "outputs": [],
   "source": [
    "def forward_selection():\n",
    "    models_best = pd.DataFrame(columns=[\"Rsquared\", \"model\"])\n",
    "\n",
    "    tic = time.time()\n",
    "    predictors = []\n",
    "\n",
    "    for i in range(1,len(X.columns)+1):    \n",
    "        models_best.loc[i] = forward(predictors)\n",
    "        predictors = list(models_best.loc[i][\"model\"].params.index[1:])\n",
    "\n",
    "    toc = time.time()\n",
    "    print(\"Total elapsed time:\", (toc-tic), \"seconds.\")\n",
    "    return models_best"
   ]
  },
  {
   "cell_type": "code",
   "execution_count": 51,
   "id": "50151e4c",
   "metadata": {},
   "outputs": [
    {
     "name": "stdout",
     "output_type": "stream",
     "text": [
      "Processed  27 models on 1 predictors in 0.12531805038452148 seconds.\n",
      "Processed  26 models on 2 predictors in 0.10983085632324219 seconds.\n",
      "Processed  25 models on 3 predictors in 0.1405339241027832 seconds.\n",
      "Processed  24 models on 4 predictors in 0.14647722244262695 seconds.\n",
      "Processed  23 models on 5 predictors in 0.1600172519683838 seconds.\n",
      "Processed  22 models on 6 predictors in 0.19686579704284668 seconds.\n",
      "Processed  21 models on 7 predictors in 0.19101691246032715 seconds.\n",
      "Processed  20 models on 8 predictors in 0.17792630195617676 seconds.\n",
      "Processed  19 models on 9 predictors in 0.19455504417419434 seconds.\n",
      "Processed  18 models on 10 predictors in 0.19020605087280273 seconds.\n",
      "Processed  17 models on 11 predictors in 0.2348167896270752 seconds.\n",
      "Processed  16 models on 12 predictors in 0.34058189392089844 seconds.\n",
      "Processed  15 models on 13 predictors in 0.2896692752838135 seconds.\n",
      "Processed  14 models on 14 predictors in 0.24129414558410645 seconds.\n",
      "Processed  13 models on 15 predictors in 0.19305968284606934 seconds.\n",
      "Processed  12 models on 16 predictors in 0.22996783256530762 seconds.\n",
      "Processed  11 models on 17 predictors in 0.19014906883239746 seconds.\n",
      "Processed  10 models on 18 predictors in 0.19266700744628906 seconds.\n",
      "Processed  9 models on 19 predictors in 0.17874503135681152 seconds.\n",
      "Processed  8 models on 20 predictors in 0.19655394554138184 seconds.\n",
      "Processed  7 models on 21 predictors in 0.15442419052124023 seconds.\n",
      "Processed  6 models on 22 predictors in 0.1338658332824707 seconds.\n",
      "Processed  5 models on 23 predictors in 0.10805106163024902 seconds.\n",
      "Processed  4 models on 24 predictors in 0.0910499095916748 seconds.\n",
      "Processed  3 models on 25 predictors in 0.0792701244354248 seconds.\n",
      "Processed  2 models on 26 predictors in 0.05139303207397461 seconds.\n",
      "Processed  1 models on 27 predictors in 0.027304887771606445 seconds.\n",
      "Total elapsed time: 4.647257089614868 seconds.\n"
     ]
    }
   ],
   "source": [
    "X = train_data[['Rk', 'G', 'PF', 'Yds', 'Ply', 'YardsPerPass', 'TO', 'FL',\n",
    "       'Tot_1stD', 'Cmp', 'Pass_Att', 'Pass_Yds', 'TD', 'Int', 'NYA', 'Pass_1stD',\n",
    "       'Rush_Att', 'Rush_Yds', 'Rush_TD', 'YardsPerAttempt', 'Rush_1stD', 'Pen',\n",
    "       'Pen_Yds', 'Tot_1stPy', 'ScPerc', 'TOPerc', 'EXP']]\n",
    "models_best = forward_selection()"
   ]
  },
  {
   "cell_type": "code",
   "execution_count": 52,
   "id": "80a7700a",
   "metadata": {},
   "outputs": [
    {
     "data": {
      "image/png": "[encoded data removed]",
      "text/plain": [
       "<Figure size 1440x720 with 4 Axes>"
      ]
     },
     "metadata": {
      "needs_background": "light"
     },
     "output_type": "display_data"
    }
   ],
   "source": [
    "best_sub_plots()"
   ]
  },
  {
   "cell_type": "code",
   "execution_count": 53,
   "id": "1c3b7b57",
   "metadata": {},
   "outputs": [
    {
     "data": {
      "text/html": [
       "<table class=\"simpletable\">\n",
       "<caption>OLS Regression Results</caption>\n",
       "<tr>\n",
       "  <th>Dep. Variable:</th>            <td>W</td>        <th>  R-squared:         </th> <td>   0.739</td>\n",
       "</tr>\n",
       "<tr>\n",
       "  <th>Model:</th>                   <td>OLS</td>       <th>  Adj. R-squared:    </th> <td>   0.731</td>\n",
       "</tr>\n",
       "<tr>\n",
       "  <th>Method:</th>             <td>Least Squares</td>  <th>  F-statistic:       </th> <td>   87.31</td>\n",
       "</tr>\n",
       "<tr>\n",
       "  <th>Date:</th>             <td>Fri, 24 Feb 2023</td> <th>  Prob (F-statistic):</th> <td>3.75e-43</td>\n",
       "</tr>\n",
       "<tr>\n",
       "  <th>Time:</th>                 <td>00:41:27</td>     <th>  Log-Likelihood:    </th> <td> -300.87</td>\n",
       "</tr>\n",
       "<tr>\n",
       "  <th>No. Observations:</th>      <td>   160</td>      <th>  AIC:               </th> <td>   613.7</td>\n",
       "</tr>\n",
       "<tr>\n",
       "  <th>Df Residuals:</th>          <td>   154</td>      <th>  BIC:               </th> <td>   632.2</td>\n",
       "</tr>\n",
       "<tr>\n",
       "  <th>Df Model:</th>              <td>     5</td>      <th>                     </th>     <td> </td>   \n",
       "</tr>\n",
       "<tr>\n",
       "  <th>Covariance Type:</th>      <td>nonrobust</td>    <th>                     </th>     <td> </td>   \n",
       "</tr>\n",
       "</table>\n",
       "<table class=\"simpletable\">\n",
       "<tr>\n",
       "         <td></td>            <th>coef</th>     <th>std err</th>      <th>t</th>      <th>P>|t|</th>  <th>[0.025</th>    <th>0.975]</th>  \n",
       "</tr>\n",
       "<tr>\n",
       "  <th>Intercept</th>       <td>    7.4801</td> <td>    3.054</td> <td>    2.450</td> <td> 0.015</td> <td>    1.448</td> <td>   13.512</td>\n",
       "</tr>\n",
       "<tr>\n",
       "  <th>Rk</th>              <td>   -0.1193</td> <td>    0.045</td> <td>   -2.662</td> <td> 0.009</td> <td>   -0.208</td> <td>   -0.031</td>\n",
       "</tr>\n",
       "<tr>\n",
       "  <th>TOPerc</th>          <td>   -0.2698</td> <td>    0.050</td> <td>   -5.409</td> <td> 0.000</td> <td>   -0.368</td> <td>   -0.171</td>\n",
       "</tr>\n",
       "<tr>\n",
       "  <th>Rush_Att</th>        <td>    0.0138</td> <td>    0.003</td> <td>    4.828</td> <td> 0.000</td> <td>    0.008</td> <td>    0.019</td>\n",
       "</tr>\n",
       "<tr>\n",
       "  <th>YardsPerAttempt</th> <td>   -1.2258</td> <td>    0.340</td> <td>   -3.605</td> <td> 0.000</td> <td>   -1.898</td> <td>   -0.554</td>\n",
       "</tr>\n",
       "<tr>\n",
       "  <th>PF</th>              <td>    0.0134</td> <td>    0.006</td> <td>    2.292</td> <td> 0.023</td> <td>    0.002</td> <td>    0.025</td>\n",
       "</tr>\n",
       "</table>\n",
       "<table class=\"simpletable\">\n",
       "<tr>\n",
       "  <th>Omnibus:</th>       <td> 1.651</td> <th>  Durbin-Watson:     </th> <td>   1.688</td>\n",
       "</tr>\n",
       "<tr>\n",
       "  <th>Prob(Omnibus):</th> <td> 0.438</td> <th>  Jarque-Bera (JB):  </th> <td>   1.571</td>\n",
       "</tr>\n",
       "<tr>\n",
       "  <th>Skew:</th>          <td>-0.241</td> <th>  Prob(JB):          </th> <td>   0.456</td>\n",
       "</tr>\n",
       "<tr>\n",
       "  <th>Kurtosis:</th>      <td> 2.941</td> <th>  Cond. No.          </th> <td>1.37e+04</td>\n",
       "</tr>\n",
       "</table><br/><br/>Notes:<br/>[1] Standard Errors assume that the covariance matrix of the errors is correctly specified.<br/>[2] The condition number is large, 1.37e+04. This might indicate that there are<br/>strong multicollinearity or other numerical problems."
      ],
      "text/plain": [
       "<class 'statsmodels.iolib.summary.Summary'>\n",
       "\"\"\"\n",
       "                            OLS Regression Results                            \n",
       "==============================================================================\n",
       "Dep. Variable:                      W   R-squared:                       0.739\n",
       "Model:                            OLS   Adj. R-squared:                  0.731\n",
       "Method:                 Least Squares   F-statistic:                     87.31\n",
       "Date:                Fri, 24 Feb 2023   Prob (F-statistic):           3.75e-43\n",
       "Time:                        00:41:27   Log-Likelihood:                -300.87\n",
       "No. Observations:                 160   AIC:                             613.7\n",
       "Df Residuals:                     154   BIC:                             632.2\n",
       "Df Model:                           5                                         \n",
       "Covariance Type:            nonrobust                                         \n",
       "===================================================================================\n",
       "                      coef    std err          t      P>|t|      [0.025      0.975]\n",
       "-----------------------------------------------------------------------------------\n",
       "Intercept           7.4801      3.054      2.450      0.015       1.448      13.512\n",
       "Rk                 -0.1193      0.045     -2.662      0.009      -0.208      -0.031\n",
       "TOPerc             -0.2698      0.050     -5.409      0.000      -0.368      -0.171\n",
       "Rush_Att            0.0138      0.003      4.828      0.000       0.008       0.019\n",
       "YardsPerAttempt    -1.2258      0.340     -3.605      0.000      -1.898      -0.554\n",
       "PF                  0.0134      0.006      2.292      0.023       0.002       0.025\n",
       "==============================================================================\n",
       "Omnibus:                        1.651   Durbin-Watson:                   1.688\n",
       "Prob(Omnibus):                  0.438   Jarque-Bera (JB):                1.571\n",
       "Skew:                          -0.241   Prob(JB):                        0.456\n",
       "Kurtosis:                       2.941   Cond. No.                     1.37e+04\n",
       "==============================================================================\n",
       "\n",
       "Notes:\n",
       "[1] Standard Errors assume that the covariance matrix of the errors is correctly specified.\n",
       "[2] The condition number is large, 1.37e+04. This might indicate that there are\n",
       "strong multicollinearity or other numerical problems.\n",
       "\"\"\""
      ]
     },
     "execution_count": 53,
     "metadata": {},
     "output_type": "execute_result"
    }
   ],
   "source": [
    "# From BIC curve we should use 5 predictors\n",
    "best_fwd_reg_model = models_best['model'][5]\n",
    "best_fwd_reg_model.summary()"
   ]
  },
  {
   "cell_type": "code",
   "execution_count": 56,
   "id": "7cfbc093",
   "metadata": {},
   "outputs": [
    {
     "name": "stdout",
     "output_type": "stream",
     "text": [
      "Optimization terminated successfully.\n",
      "         Current function value: 0.297865\n",
      "         Iterations 8\n"
     ]
    },
    {
     "data": {
      "text/html": [
       "<table class=\"simpletable\">\n",
       "<caption>Logit Regression Results</caption>\n",
       "<tr>\n",
       "  <th>Dep. Variable:</th>           <td>W</td>        <th>  No. Observations:  </th>  <td>   160</td>  \n",
       "</tr>\n",
       "<tr>\n",
       "  <th>Model:</th>                 <td>Logit</td>      <th>  Df Residuals:      </th>  <td>   154</td>  \n",
       "</tr>\n",
       "<tr>\n",
       "  <th>Method:</th>                 <td>MLE</td>       <th>  Df Model:          </th>  <td>     5</td>  \n",
       "</tr>\n",
       "<tr>\n",
       "  <th>Date:</th>            <td>Fri, 24 Feb 2023</td> <th>  Pseudo R-squ.:     </th>  <td>0.5399</td>  \n",
       "</tr>\n",
       "<tr>\n",
       "  <th>Time:</th>                <td>00:43:10</td>     <th>  Log-Likelihood:    </th> <td> -47.658</td> \n",
       "</tr>\n",
       "<tr>\n",
       "  <th>converged:</th>             <td>True</td>       <th>  LL-Null:           </th> <td> -103.59</td> \n",
       "</tr>\n",
       "<tr>\n",
       "  <th>Covariance Type:</th>     <td>nonrobust</td>    <th>  LLR p-value:       </th> <td>1.652e-22</td>\n",
       "</tr>\n",
       "</table>\n",
       "<table class=\"simpletable\">\n",
       "<tr>\n",
       "         <td></td>            <th>coef</th>     <th>std err</th>      <th>z</th>      <th>P>|z|</th>  <th>[0.025</th>    <th>0.975]</th>  \n",
       "</tr>\n",
       "<tr>\n",
       "  <th>Intercept</th>       <td>    1.9490</td> <td>    5.888</td> <td>    0.331</td> <td> 0.741</td> <td>   -9.591</td> <td>   13.489</td>\n",
       "</tr>\n",
       "<tr>\n",
       "  <th>PF</th>              <td>    0.0152</td> <td>    0.011</td> <td>    1.351</td> <td> 0.177</td> <td>   -0.007</td> <td>    0.037</td>\n",
       "</tr>\n",
       "<tr>\n",
       "  <th>TOPerc</th>          <td>   -0.2799</td> <td>    0.108</td> <td>   -2.593</td> <td> 0.010</td> <td>   -0.491</td> <td>   -0.068</td>\n",
       "</tr>\n",
       "<tr>\n",
       "  <th>Rush_Yds</th>        <td>    0.0033</td> <td>    0.001</td> <td>    2.545</td> <td> 0.011</td> <td>    0.001</td> <td>    0.006</td>\n",
       "</tr>\n",
       "<tr>\n",
       "  <th>YardsPerAttempt</th> <td>   -2.2756</td> <td>    1.007</td> <td>   -2.260</td> <td> 0.024</td> <td>   -4.249</td> <td>   -0.302</td>\n",
       "</tr>\n",
       "<tr>\n",
       "  <th>Rk</th>              <td>   -0.1414</td> <td>    0.088</td> <td>   -1.614</td> <td> 0.107</td> <td>   -0.313</td> <td>    0.030</td>\n",
       "</tr>\n",
       "</table>"
      ],
      "text/plain": [
       "<class 'statsmodels.iolib.summary.Summary'>\n",
       "\"\"\"\n",
       "                           Logit Regression Results                           \n",
       "==============================================================================\n",
       "Dep. Variable:                      W   No. Observations:                  160\n",
       "Model:                          Logit   Df Residuals:                      154\n",
       "Method:                           MLE   Df Model:                            5\n",
       "Date:                Fri, 24 Feb 2023   Pseudo R-squ.:                  0.5399\n",
       "Time:                        00:43:10   Log-Likelihood:                -47.658\n",
       "converged:                       True   LL-Null:                       -103.59\n",
       "Covariance Type:            nonrobust   LLR p-value:                 1.652e-22\n",
       "===================================================================================\n",
       "                      coef    std err          z      P>|z|      [0.025      0.975]\n",
       "-----------------------------------------------------------------------------------\n",
       "Intercept           1.9490      5.888      0.331      0.741      -9.591      13.489\n",
       "PF                  0.0152      0.011      1.351      0.177      -0.007       0.037\n",
       "TOPerc             -0.2799      0.108     -2.593      0.010      -0.491      -0.068\n",
       "Rush_Yds            0.0033      0.001      2.545      0.011       0.001       0.006\n",
       "YardsPerAttempt    -2.2756      1.007     -2.260      0.024      -4.249      -0.302\n",
       "Rk                 -0.1414      0.088     -1.614      0.107      -0.313       0.030\n",
       "===================================================================================\n",
       "\"\"\""
      ]
     },
     "execution_count": 56,
     "metadata": {},
     "output_type": "execute_result"
    }
   ],
   "source": [
    "train_data['W'] = (train_data['W'] >= 10).astype(int)\n",
    "import statsmodels.formula.api as smf\n",
    "logit_model = smf.logit(formula = 'W ~ PF + TOPerc + Rush_Yds + YardsPerAttempt + Rk', data = train_data).fit()\n",
    "logit_model.summary()"
   ]
  },
  {
   "cell_type": "code",
   "execution_count": 58,
   "id": "124bbbd5",
   "metadata": {},
   "outputs": [],
   "source": [
    "# Get accuracy for training data\n",
    "def confusion_matrix_train(model,cutoff=0.55):\n",
    "    # Confusion matrix\n",
    "    cm_df = pd.DataFrame(model.pred_table(threshold = cutoff))\n",
    "    #Formatting the confusion matrix\n",
    "    cm_df.columns = ['Predicted 0', 'Predicted 1'] \n",
    "    cm_df = cm_df.rename(index={0: 'Actual 0',1: 'Actual 1'})\n",
    "    cm = np.array(cm_df)\n",
    "    # Calculate the accuracy\n",
    "    accuracy = (cm[0,0]+cm[1,1])/cm.sum()\n",
    "    sns.heatmap(cm_df, annot=True, cmap='Blues', fmt='g')\n",
    "    plt.ylabel(\"Actual Values\")\n",
    "    plt.xlabel(\"Predicted Values\")\n",
    "    print(\"Classification accuracy = {:.1%}\".format(accuracy))"
   ]
  },
  {
   "cell_type": "code",
   "execution_count": 59,
   "id": "52b9678a",
   "metadata": {},
   "outputs": [
    {
     "name": "stdout",
     "output_type": "stream",
     "text": [
      "Classification accuracy = 89.4%\n"
     ]
    },
    {
     "data": {
      "image/png": "[encoded data removed]",
      "text/plain": [
       "<Figure size 432x288 with 2 Axes>"
      ]
     },
     "metadata": {
      "needs_background": "light"
     },
     "output_type": "display_data"
    }
   ],
   "source": [
    "cm = confusion_matrix_train(logit_model)"
   ]
  },
  {
   "cell_type": "code",
   "execution_count": 60,
   "id": "5282af32",
   "metadata": {},
   "outputs": [],
   "source": [
    "def confusion_matrix_test(data,actual_values,model,cutoff=0.5):\n",
    "#Predict the values using the Logit model\n",
    "    pred_values = model.predict(data)\n",
    "# Specify the bins\n",
    "    bins=np.array([0,cutoff,1])\n",
    "#Confusion matrix\n",
    "    cm = np.histogram2d(actual_values, pred_values, bins=bins)[0]\n",
    "    cm_df = pd.DataFrame(cm)\n",
    "    cm_df.columns = ['Predicted 0','Predicted 1']\n",
    "    cm_df = cm_df.rename(index={0: 'Actual 0',1:'Actual 1'})\n",
    "    accuracy = (cm[0,0]+cm[1,1])/cm.sum()\n",
    "    sns.heatmap(cm_df, annot=True, cmap='Blues', fmt='g')\n",
    "    plt.ylabel(\"Actual Values\")\n",
    "    plt.xlabel(\"Predicted Values\")\n",
    "    print(\"Classification accuracy = {:.1%}\".format(accuracy))"
   ]
  },
  {
   "cell_type": "code",
   "execution_count": 67,
   "id": "162efd6f",
   "metadata": {},
   "outputs": [
    {
     "name": "stdout",
     "output_type": "stream",
     "text": [
      "Classification accuracy = 84.4%\n"
     ]
    },
    {
     "data": {
      "image/png": "[encoded data removed]",
      "text/plain": [
       "<Figure size 432x288 with 2 Axes>"
      ]
     },
     "metadata": {
      "needs_background": "light"
     },
     "output_type": "display_data"
    }
   ],
   "source": [
    "confusion_matrix_test(test_data, actual, logit_model, 0.55)"
   ]
  },
  {
   "cell_type": "code",
   "execution_count": null,
   "id": "3334e590",
   "metadata": {},
   "outputs": [],
   "source": []
  }
 ],
 "metadata": {
  "kernelspec": {
   "display_name": "Python 3",
   "language": "python",
   "name": "python3"
  },
  "language_info": {
   "codemirror_mode": {
    "name": "ipython",
    "version": 3
   },
   "file_extension": ".py",
   "mimetype": "text/x-python",
   "name": "python",
   "nbconvert_exporter": "python",
   "pygments_lexer": "ipython3",
   "version": "3.8.8"
  }
 },
 "nbformat": 4,
 "nbformat_minor": 5
}
