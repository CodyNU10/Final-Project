{
 "cells": [
  {
   "cell_type": "code",
   "execution_count": 12,
   "id": "b3564e24",
   "metadata": {},
   "outputs": [],
   "source": [
    "import pandas as pd\n",
    "import numpy as np\n",
    "import statsmodels.formula.api as smf\n",
    "import seaborn as sns\n",
    "import matplotlib.pyplot as plt"
   ]
  },
  {
   "cell_type": "code",
   "execution_count": 82,
   "id": "8392b6c3",
   "metadata": {},
   "outputs": [],
   "source": [
    "train = pd.read_csv('train_data_regression_model')\n",
    "train = train.iloc[:,1:]\n",
    "train = train.rename(columns={\"1stD\": \"First_Downs\", \"Att.1\": \"Att_First\", \"Y/P\":\"YpP\", \"Y/A\":\"YpA\", \"Rush_1stD\":\"Rush_Firsts\", \"TO%\":\"TOPerc\"})\n",
    "train\n",
    "\n",
    "test = pd.read_csv('Test Data')\n",
    "test = test.iloc[:,1:]\n",
    "test = test.rename(columns={\"1stD\": \"First_Downs\", \"Att.1\": \"Att_First\", \"Y/P\":\"YpP\", \"Y/A\":\"YpA\", \"Rush_1stD\":\"Rush_Firsts\", \"TO%\":\"TOPerc\"})\n",
    "test = test.drop(columns = ['Rk','G'])\n",
    "\n",
    "actual_wins = pd.read_csv('Actual Wins')\n",
    "actual_wins = actual_wins.iloc[:,1:]\n",
    "actual_wins\n",
    "test = pd.merge(test,actual_wins)\n",
    "train = train.drop(columns = ['Rk','G'])\n"
   ]
  },
  {
   "cell_type": "code",
   "execution_count": 31,
   "id": "200f15e8",
   "metadata": {},
   "outputs": [
    {
     "data": {
      "text/html": [
       "<table class=\"simpletable\">\n",
       "<caption>OLS Regression Results</caption>\n",
       "<tr>\n",
       "  <th>Dep. Variable:</th>            <td>W</td>        <th>  R-squared:         </th> <td>   0.731</td>\n",
       "</tr>\n",
       "<tr>\n",
       "  <th>Model:</th>                   <td>OLS</td>       <th>  Adj. R-squared:    </th> <td>   0.699</td>\n",
       "</tr>\n",
       "<tr>\n",
       "  <th>Method:</th>             <td>Least Squares</td>  <th>  F-statistic:       </th> <td>   22.68</td>\n",
       "</tr>\n",
       "<tr>\n",
       "  <th>Date:</th>             <td>Tue, 28 Feb 2023</td> <th>  Prob (F-statistic):</th> <td>2.83e-32</td>\n",
       "</tr>\n",
       "<tr>\n",
       "  <th>Time:</th>                 <td>15:26:50</td>     <th>  Log-Likelihood:    </th> <td> -303.40</td>\n",
       "</tr>\n",
       "<tr>\n",
       "  <th>No. Observations:</th>      <td>   160</td>      <th>  AIC:               </th> <td>   642.8</td>\n",
       "</tr>\n",
       "<tr>\n",
       "  <th>Df Residuals:</th>          <td>   142</td>      <th>  BIC:               </th> <td>   698.2</td>\n",
       "</tr>\n",
       "<tr>\n",
       "  <th>Df Model:</th>              <td>    17</td>      <th>                     </th>     <td> </td>   \n",
       "</tr>\n",
       "<tr>\n",
       "  <th>Covariance Type:</th>      <td>nonrobust</td>    <th>                     </th>     <td> </td>   \n",
       "</tr>\n",
       "</table>\n",
       "<table class=\"simpletable\">\n",
       "<tr>\n",
       "       <td></td>          <th>coef</th>     <th>std err</th>      <th>t</th>      <th>P>|t|</th>  <th>[0.025</th>    <th>0.975]</th>  \n",
       "</tr>\n",
       "<tr>\n",
       "  <th>Intercept</th>   <td>   28.9447</td> <td>   23.071</td> <td>    1.255</td> <td> 0.212</td> <td>  -16.662</td> <td>   74.551</td>\n",
       "</tr>\n",
       "<tr>\n",
       "  <th>Yds</th>         <td>    0.0017</td> <td>    0.003</td> <td>    0.556</td> <td> 0.579</td> <td>   -0.004</td> <td>    0.008</td>\n",
       "</tr>\n",
       "<tr>\n",
       "  <th>TO</th>          <td>    0.1950</td> <td>    0.090</td> <td>    2.168</td> <td> 0.032</td> <td>    0.017</td> <td>    0.373</td>\n",
       "</tr>\n",
       "<tr>\n",
       "  <th>FL</th>          <td>    0.0900</td> <td>    0.051</td> <td>    1.766</td> <td> 0.080</td> <td>   -0.011</td> <td>    0.191</td>\n",
       "</tr>\n",
       "<tr>\n",
       "  <th>Cmp</th>         <td>    0.0230</td> <td>    0.010</td> <td>    2.207</td> <td> 0.029</td> <td>    0.002</td> <td>    0.044</td>\n",
       "</tr>\n",
       "<tr>\n",
       "  <th>Att</th>         <td>    0.0337</td> <td>    0.017</td> <td>    1.995</td> <td> 0.048</td> <td>    0.000</td> <td>    0.067</td>\n",
       "</tr>\n",
       "<tr>\n",
       "  <th>Pass_Yds</th>    <td>    0.0014</td> <td>    0.002</td> <td>    0.626</td> <td> 0.532</td> <td>   -0.003</td> <td>    0.006</td>\n",
       "</tr>\n",
       "<tr>\n",
       "  <th>TD</th>          <td>    0.1197</td> <td>    0.037</td> <td>    3.278</td> <td> 0.001</td> <td>    0.047</td> <td>    0.192</td>\n",
       "</tr>\n",
       "<tr>\n",
       "  <th>Int</th>         <td>    0.1049</td> <td>    0.059</td> <td>    1.787</td> <td> 0.076</td> <td>   -0.011</td> <td>    0.221</td>\n",
       "</tr>\n",
       "<tr>\n",
       "  <th>Rush_Yds</th>    <td>    0.0004</td> <td>    0.004</td> <td>    0.102</td> <td> 0.919</td> <td>   -0.007</td> <td>    0.008</td>\n",
       "</tr>\n",
       "<tr>\n",
       "  <th>Rush_TD</th>     <td>    0.1128</td> <td>    0.055</td> <td>    2.066</td> <td> 0.041</td> <td>    0.005</td> <td>    0.221</td>\n",
       "</tr>\n",
       "<tr>\n",
       "  <th>Pen</th>         <td>    0.0281</td> <td>    0.024</td> <td>    1.188</td> <td> 0.237</td> <td>   -0.019</td> <td>    0.075</td>\n",
       "</tr>\n",
       "<tr>\n",
       "  <th>Pen_Yds</th>     <td>   -0.0010</td> <td>    0.002</td> <td>   -0.412</td> <td> 0.681</td> <td>   -0.006</td> <td>    0.004</td>\n",
       "</tr>\n",
       "<tr>\n",
       "  <th>First_Downs</th> <td>    0.0380</td> <td>    0.016</td> <td>    2.421</td> <td> 0.017</td> <td>    0.007</td> <td>    0.069</td>\n",
       "</tr>\n",
       "<tr>\n",
       "  <th>Att_First</th>   <td>    0.0790</td> <td>    0.028</td> <td>    2.780</td> <td> 0.006</td> <td>    0.023</td> <td>    0.135</td>\n",
       "</tr>\n",
       "<tr>\n",
       "  <th>YpP</th>         <td>   -4.5425</td> <td>    3.878</td> <td>   -1.171</td> <td> 0.243</td> <td>  -12.208</td> <td>    3.123</td>\n",
       "</tr>\n",
       "<tr>\n",
       "  <th>YpA</th>         <td>   -0.3244</td> <td>    2.155</td> <td>   -0.151</td> <td> 0.881</td> <td>   -4.585</td> <td>    3.936</td>\n",
       "</tr>\n",
       "<tr>\n",
       "  <th>Rush_Firsts</th> <td>   -0.0237</td> <td>    0.021</td> <td>   -1.151</td> <td> 0.252</td> <td>   -0.064</td> <td>    0.017</td>\n",
       "</tr>\n",
       "<tr>\n",
       "  <th>TOPerc</th>      <td>   -0.8621</td> <td>    0.264</td> <td>   -3.263</td> <td> 0.001</td> <td>   -1.384</td> <td>   -0.340</td>\n",
       "</tr>\n",
       "<tr>\n",
       "  <th>Ply</th>         <td>   -0.0823</td> <td>    0.025</td> <td>   -3.339</td> <td> 0.001</td> <td>   -0.131</td> <td>   -0.034</td>\n",
       "</tr>\n",
       "</table>\n",
       "<table class=\"simpletable\">\n",
       "<tr>\n",
       "  <th>Omnibus:</th>       <td> 2.391</td> <th>  Durbin-Watson:     </th> <td>   1.663</td>\n",
       "</tr>\n",
       "<tr>\n",
       "  <th>Prob(Omnibus):</th> <td> 0.303</td> <th>  Jarque-Bera (JB):  </th> <td>   2.410</td>\n",
       "</tr>\n",
       "<tr>\n",
       "  <th>Skew:</th>          <td>-0.255</td> <th>  Prob(JB):          </th> <td>   0.300</td>\n",
       "</tr>\n",
       "<tr>\n",
       "  <th>Kurtosis:</th>      <td> 2.683</td> <th>  Cond. No.          </th> <td>6.41e+18</td>\n",
       "</tr>\n",
       "</table><br/><br/>Notes:<br/>[1] Standard Errors assume that the covariance matrix of the errors is correctly specified.<br/>[2] The smallest eigenvalue is 2.05e-28. This might indicate that there are<br/>strong multicollinearity problems or that the design matrix is singular."
      ],
      "text/plain": [
       "<class 'statsmodels.iolib.summary.Summary'>\n",
       "\"\"\"\n",
       "                            OLS Regression Results                            \n",
       "==============================================================================\n",
       "Dep. Variable:                      W   R-squared:                       0.731\n",
       "Model:                            OLS   Adj. R-squared:                  0.699\n",
       "Method:                 Least Squares   F-statistic:                     22.68\n",
       "Date:                Tue, 28 Feb 2023   Prob (F-statistic):           2.83e-32\n",
       "Time:                        15:26:50   Log-Likelihood:                -303.40\n",
       "No. Observations:                 160   AIC:                             642.8\n",
       "Df Residuals:                     142   BIC:                             698.2\n",
       "Df Model:                          17                                         \n",
       "Covariance Type:            nonrobust                                         \n",
       "===============================================================================\n",
       "                  coef    std err          t      P>|t|      [0.025      0.975]\n",
       "-------------------------------------------------------------------------------\n",
       "Intercept      28.9447     23.071      1.255      0.212     -16.662      74.551\n",
       "Yds             0.0017      0.003      0.556      0.579      -0.004       0.008\n",
       "TO              0.1950      0.090      2.168      0.032       0.017       0.373\n",
       "FL              0.0900      0.051      1.766      0.080      -0.011       0.191\n",
       "Cmp             0.0230      0.010      2.207      0.029       0.002       0.044\n",
       "Att             0.0337      0.017      1.995      0.048       0.000       0.067\n",
       "Pass_Yds        0.0014      0.002      0.626      0.532      -0.003       0.006\n",
       "TD              0.1197      0.037      3.278      0.001       0.047       0.192\n",
       "Int             0.1049      0.059      1.787      0.076      -0.011       0.221\n",
       "Rush_Yds        0.0004      0.004      0.102      0.919      -0.007       0.008\n",
       "Rush_TD         0.1128      0.055      2.066      0.041       0.005       0.221\n",
       "Pen             0.0281      0.024      1.188      0.237      -0.019       0.075\n",
       "Pen_Yds        -0.0010      0.002     -0.412      0.681      -0.006       0.004\n",
       "First_Downs     0.0380      0.016      2.421      0.017       0.007       0.069\n",
       "Att_First       0.0790      0.028      2.780      0.006       0.023       0.135\n",
       "YpP            -4.5425      3.878     -1.171      0.243     -12.208       3.123\n",
       "YpA            -0.3244      2.155     -0.151      0.881      -4.585       3.936\n",
       "Rush_Firsts    -0.0237      0.021     -1.151      0.252      -0.064       0.017\n",
       "TOPerc         -0.8621      0.264     -3.263      0.001      -1.384      -0.340\n",
       "Ply            -0.0823      0.025     -3.339      0.001      -0.131      -0.034\n",
       "==============================================================================\n",
       "Omnibus:                        2.391   Durbin-Watson:                   1.663\n",
       "Prob(Omnibus):                  0.303   Jarque-Bera (JB):                2.410\n",
       "Skew:                          -0.255   Prob(JB):                        0.300\n",
       "Kurtosis:                       2.683   Cond. No.                     6.41e+18\n",
       "==============================================================================\n",
       "\n",
       "Notes:\n",
       "[1] Standard Errors assume that the covariance matrix of the errors is correctly specified.\n",
       "[2] The smallest eigenvalue is 2.05e-28. This might indicate that there are\n",
       "strong multicollinearity problems or that the design matrix is singular.\n",
       "\"\"\""
      ]
     },
     "execution_count": 31,
     "metadata": {},
     "output_type": "execute_result"
    }
   ],
   "source": [
    "# Naive Model\n",
    "ols_object = smf.ols(formula = 'W~Yds+TO+FL+Cmp+Att+Pass_Yds+TD+Int+Rush_Yds+Rush_TD+Pen+Pen_Yds+First_Downs+Att_First+YpP+YpA+Rush_Firsts+TOPerc+Ply', data = train)\n",
    "naive_model = ols_object.fit()\n",
    "naive_model.summary()\n",
    "\n",
    "# Insights: Yds not significant but touchdowns (obviously) are. Turnovers significant, but for some reason fumbles lost are not.\n",
    "# Explore that by using interadtion Term. Completions and Attempts not significant. Even though yds not significant, the coefficient is \n",
    "# negative, surprisingly. Use only significant predictors for next iteration."
   ]
  },
  {
   "cell_type": "code",
   "execution_count": 138,
   "id": "0b05a9e2",
   "metadata": {},
   "outputs": [
    {
     "data": {
      "text/plain": [
       "Index(['PF', 'Yds', 'Ply', 'YpP', 'TO', 'FL', 'First_Downs', 'Cmp', 'Att',\n",
       "       'Pass_Yds', 'TD', 'Int', 'NY/A', 'Pass_1stD', 'Att_First', 'Rush_Yds',\n",
       "       'Rush_TD', 'YpA', 'Rush_Firsts', 'Pen', 'Pen_Yds', '1stPy', 'Sc%',\n",
       "       'TOPerc', 'EXP'],\n",
       "      dtype='object')"
      ]
     },
     "execution_count": 138,
     "metadata": {},
     "output_type": "execute_result"
    }
   ],
   "source": [
    "from sklearn.linear_model import Ridge, RidgeCV, Lasso, LassoCV\n",
    "from sklearn.preprocessing import StandardScaler \n",
    "from sklearn.metrics import r2_score\n",
    "\n",
    "# Ridge Regression - will not transform wins as it is not right skewed\n",
    "y = train.W\n",
    "X = train.iloc[:,2:]\n",
    "scaler = StandardScaler()\n",
    "scaler.fit(X)\n",
    "Xstd = scaler.transform(X)\n",
    "X.columns"
   ]
  },
  {
   "cell_type": "code",
   "execution_count": 102,
   "id": "cce66b7d",
   "metadata": {},
   "outputs": [
    {
     "data": {
      "text/plain": [
       "Text(0, 0.5, 'Standardized coefficient')"
      ]
     },
     "execution_count": 102,
     "metadata": {},
     "output_type": "execute_result"
    },
    {
     "data": {
      "image/png": "[encoded data removed]",
      "text/plain": [
       "<Figure size 432x288 with 1 Axes>"
      ]
     },
     "metadata": {
      "needs_background": "light"
     },
     "output_type": "display_data"
    }
   ],
   "source": [
    "coefs = []\n",
    "alphas = 10**np.linspace(10,-2,200)*0.5\n",
    "for a in alphas:        \n",
    "    ridge = Ridge(alpha = a)\n",
    "    ridge.fit(Xstd, y)\n",
    "    coefs.append(ridge.coef_)\n",
    "    \n",
    "plt.xlabel('xlabel', fontsize=18)\n",
    "plt.ylabel('ylabel', fontsize=18)\n",
    "plt.plot(alphas, coefs)\n",
    "plt.xscale('log')\n",
    "plt.xlabel('$\\lambda$')\n",
    "plt.ylabel('Standardized coefficient')"
   ]
  },
  {
   "cell_type": "code",
   "execution_count": 105,
   "id": "43d5c4b0",
   "metadata": {},
   "outputs": [
    {
     "data": {
      "text/plain": [
       "0.5359456596025638"
      ]
     },
     "execution_count": 105,
     "metadata": {},
     "output_type": "execute_result"
    }
   ],
   "source": [
    "# Optimal Tuning Parameter\n",
    "alphas = 10**np.linspace(1.5,-3,200)*0.5\n",
    "ridgecv = RidgeCV(alphas = alphas,store_cv_values=True)\n",
    "ridgecv.fit(Xstd, y)\n",
    "ridgecv.alpha_"
   ]
  },
  {
   "cell_type": "code",
   "execution_count": 128,
   "id": "e2d44f5f",
   "metadata": {},
   "outputs": [],
   "source": [
    "Xtest = pd.concat([test.iloc[:,26:],test.iloc[:,1:26]], axis=1)\n",
    "Xtest = Xtest.iloc[:,1:]\n",
    "Xtest_std = scaler.transform(Xtest)"
   ]
  },
  {
   "cell_type": "code",
   "execution_count": 129,
   "id": "69c82fe0",
   "metadata": {},
   "outputs": [],
   "source": [
    "# Regular Regression Model\n",
    "ridge = Ridge(alpha = ridgecv.alpha_)\n",
    "ridge.fit(Xstd, y)\n",
    "pred=ridge.predict(Xtest_std)"
   ]
  },
  {
   "cell_type": "code",
   "execution_count": 152,
   "id": "0200f321",
   "metadata": {},
   "outputs": [
    {
     "data": {
      "text/plain": [
       "0.6827665937073705"
      ]
     },
     "execution_count": 152,
     "metadata": {},
     "output_type": "execute_result"
    }
   ],
   "source": [
    "#RMSE and R-squared\n",
    "np.sqrt(((pred-test.W)**2).mean())\n",
    "r2_score(ridge.predict(Xstd),y)"
   ]
  },
  {
   "cell_type": "code",
   "execution_count": 145,
   "id": "0ae3fad1",
   "metadata": {},
   "outputs": [
    {
     "name": "stdout",
     "output_type": "stream",
     "text": [
      "Processed  22 models on 1 predictors in 0.1007390022277832 seconds.\n",
      "Processed  21 models on 2 predictors in 0.09319519996643066 seconds.\n",
      "Processed  20 models on 3 predictors in 0.0995631217956543 seconds.\n",
      "Processed  19 models on 4 predictors in 0.12234091758728027 seconds.\n",
      "Processed  18 models on 5 predictors in 0.11801290512084961 seconds.\n",
      "Processed  17 models on 6 predictors in 0.13915419578552246 seconds.\n",
      "Processed  16 models on 7 predictors in 0.15003299713134766 seconds.\n",
      "Processed  15 models on 8 predictors in 0.1657400131225586 seconds.\n",
      "Processed  14 models on 9 predictors in 0.1602611541748047 seconds.\n",
      "Processed  13 models on 10 predictors in 0.17999482154846191 seconds.\n",
      "Processed  12 models on 11 predictors in 0.17655706405639648 seconds.\n",
      "Processed  11 models on 12 predictors in 0.18270182609558105 seconds.\n",
      "Processed  10 models on 13 predictors in 0.17301106452941895 seconds.\n",
      "Processed  9 models on 14 predictors in 0.16560983657836914 seconds.\n",
      "Processed  8 models on 15 predictors in 0.14792180061340332 seconds.\n",
      "Processed  7 models on 16 predictors in 0.13771295547485352 seconds.\n",
      "Processed  6 models on 17 predictors in 0.11553621292114258 seconds.\n",
      "Processed  5 models on 18 predictors in 0.09926199913024902 seconds.\n",
      "Processed  4 models on 19 predictors in 0.09484601020812988 seconds.\n",
      "Processed  3 models on 20 predictors in 0.07554507255554199 seconds.\n",
      "Processed  2 models on 21 predictors in 0.05846810340881348 seconds.\n",
      "Processed  1 models on 22 predictors in 0.03200817108154297 seconds.\n",
      "Total elapsed time: 2.840937852859497 seconds.\n"
     ]
    }
   ],
   "source": [
    "# Forward Stepwise Regression Model\n",
    "import time\n",
    "import statsmodels.formula.api as sm\n",
    "import seaborn as sns\n",
    "import matplotlib.pyplot as plt\n",
    "import itertools\n",
    "#Function to develop a model based on all predictors in predictor_subset\n",
    "def processSubset(predictor_subset):\n",
    "    # Fit model on feature_set and calculate R-squared\n",
    "    model = sm.ols('W ~' + '+'.join(predictor_subset),data = train).fit()\n",
    "    Rsquared = model.rsquared\n",
    "    return {\"model\":model, \"Rsquared\":Rsquared}\n",
    "\n",
    "def getBest_model(k):\n",
    "    tic = time.time()\n",
    "    results = []\n",
    "    for combo in itertools.combinations(X.columns, k):\n",
    "        results.append(processSubset((list(combo))))\n",
    "\n",
    "    # Wrap everything up in a dataframe\n",
    "    models = pd.DataFrame(results)\n",
    "\n",
    "    # Choose the model with the highest RSS\n",
    "    best_model = models.loc[models['Rsquared'].argmax()]\n",
    "    \n",
    "    toc = time.time()\n",
    "    print(\"Processed\", models.shape[0], \"models on\", k, \"predictors in\", (toc-tic), \"seconds.\")\n",
    "    return best_model\n",
    "\n",
    "def best_sub_plots():\n",
    "    plt.figure(figsize=(20,10))\n",
    "    plt.rcParams.update({'font.size': 18, 'lines.markersize': 10})\n",
    "\n",
    "    # Set up a 2x2 grid so we can look at 4 plots at once\n",
    "    plt.subplot(2, 2, 1)\n",
    "\n",
    "    # We will now plot a red dot to indicate the model with the largest adjusted R^2 statistic.\n",
    "    # The argmax() function can be used to identify the location of the maximum point of a vector\n",
    "    plt.plot(models_best[\"Rsquared\"])\n",
    "    plt.xlabel('# Predictors')\n",
    "    plt.ylabel('Rsquared')\n",
    "\n",
    "    # We will now plot a red dot to indicate the model with the largest adjusted R^2 statistic.\n",
    "    # The argmax() function can be used to identify the location of the maximum point of a vector\n",
    "\n",
    "    rsquared_adj = models_best.apply(lambda row: row[1].rsquared_adj, axis=1)\n",
    "\n",
    "    plt.subplot(2, 2, 2)\n",
    "    plt.plot(rsquared_adj)\n",
    "    plt.plot(1+rsquared_adj.argmax(), rsquared_adj.max(), \"or\")\n",
    "    plt.xlabel('# Predictors')\n",
    "    plt.ylabel('adjusted rsquared')\n",
    "\n",
    "    # We'll do the same for AIC and BIC, this time looking for the models with the SMALLEST statistic\n",
    "    aic = models_best.apply(lambda row: row[1].aic, axis=1)\n",
    "\n",
    "    plt.subplot(2, 2, 3)\n",
    "    plt.plot(aic)\n",
    "    plt.plot(1+aic.argmin(), aic.min(), \"or\")\n",
    "    plt.xlabel('# Predictors')\n",
    "    plt.ylabel('AIC')\n",
    "\n",
    "    bic = models_best.apply(lambda row: row[1].bic, axis=1)\n",
    "\n",
    "    plt.subplot(2, 2, 4)\n",
    "    plt.plot(bic)\n",
    "    plt.plot(1+bic.argmin(), bic.min(), \"or\")\n",
    "    plt.xlabel('# Predictors')\n",
    "    plt.ylabel('BIC')\n",
    "    \n",
    "def forward(predictors):\n",
    "\n",
    "    # Pull out predictors we still need to process\n",
    "    remaining_predictors = [p for p in X.columns if p not in predictors]\n",
    "    \n",
    "    tic = time.time()\n",
    "    \n",
    "    results = []\n",
    "    \n",
    "    for p in remaining_predictors:\n",
    "        results.append(processSubset(predictors+[p]))\n",
    "    \n",
    "    # Wrap everything up in a nice dataframe\n",
    "    models = pd.DataFrame(results)\n",
    "    \n",
    "    # Choose the model with the highest RSS\n",
    "    best_model = models.loc[models['Rsquared'].argmax()]\n",
    "    \n",
    "    toc = time.time()\n",
    "    print(\"Processed \", models.shape[0], \"models on\", len(predictors)+1, \"predictors in\", (toc-tic), \"seconds.\")\n",
    "    \n",
    "    # Return the best model, along with some other useful information about the model\n",
    "    return best_model\n",
    "\n",
    "def forward_selection():\n",
    "    models_best = pd.DataFrame(columns=[\"Rsquared\", \"model\"])\n",
    "\n",
    "    tic = time.time()\n",
    "    predictors = []\n",
    "\n",
    "    for i in range(1,len(X.columns)+1):    \n",
    "        models_best.loc[i] = forward(predictors)\n",
    "        predictors = list(models_best.loc[i][\"model\"].params.index[1:])\n",
    "\n",
    "    toc = time.time()\n",
    "    print(\"Total elapsed time:\", (toc-tic), \"seconds.\")\n",
    "    return models_best\n",
    "\n",
    "X = train[['PF', 'Yds', 'Ply', 'YpP', 'TO', 'FL', 'First_Downs', 'Cmp', 'Att',\n",
    "       'Pass_Yds', 'TD', 'Int', 'Pass_1stD', 'Att_First', 'Rush_Yds',\n",
    "       'Rush_TD', 'YpA', 'Rush_Firsts', 'Pen', 'Pen_Yds',\n",
    "       'TOPerc', 'EXP']]\n",
    "models_best = forward_selection()"
   ]
  },
  {
   "cell_type": "code",
   "execution_count": 146,
   "id": "544acde7",
   "metadata": {},
   "outputs": [
    {
     "data": {
      "image/png": "[encoded data removed]",
      "text/plain": [
       "<Figure size 1440x720 with 4 Axes>"
      ]
     },
     "metadata": {
      "needs_background": "light"
     },
     "output_type": "display_data"
    }
   ],
   "source": [
    "best_sub_plots()\n",
    "# Use 4 predictors - BIC"
   ]
  },
  {
   "cell_type": "code",
   "execution_count": 147,
   "id": "ad431c74",
   "metadata": {},
   "outputs": [
    {
     "data": {
      "text/html": [
       "<table class=\"simpletable\">\n",
       "<caption>OLS Regression Results</caption>\n",
       "<tr>\n",
       "  <th>Dep. Variable:</th>            <td>W</td>        <th>  R-squared:         </th> <td>   0.727</td>\n",
       "</tr>\n",
       "<tr>\n",
       "  <th>Model:</th>                   <td>OLS</td>       <th>  Adj. R-squared:    </th> <td>   0.720</td>\n",
       "</tr>\n",
       "<tr>\n",
       "  <th>Method:</th>             <td>Least Squares</td>  <th>  F-statistic:       </th> <td>   103.4</td>\n",
       "</tr>\n",
       "<tr>\n",
       "  <th>Date:</th>             <td>Tue, 28 Feb 2023</td> <th>  Prob (F-statistic):</th> <td>1.02e-42</td>\n",
       "</tr>\n",
       "<tr>\n",
       "  <th>Time:</th>                 <td>16:23:18</td>     <th>  Log-Likelihood:    </th> <td> -304.41</td>\n",
       "</tr>\n",
       "<tr>\n",
       "  <th>No. Observations:</th>      <td>   160</td>      <th>  AIC:               </th> <td>   618.8</td>\n",
       "</tr>\n",
       "<tr>\n",
       "  <th>Df Residuals:</th>          <td>   155</td>      <th>  BIC:               </th> <td>   634.2</td>\n",
       "</tr>\n",
       "<tr>\n",
       "  <th>Df Model:</th>              <td>     4</td>      <th>                     </th>     <td> </td>   \n",
       "</tr>\n",
       "<tr>\n",
       "  <th>Covariance Type:</th>      <td>nonrobust</td>    <th>                     </th>     <td> </td>   \n",
       "</tr>\n",
       "</table>\n",
       "<table class=\"simpletable\">\n",
       "<tr>\n",
       "      <td></td>         <th>coef</th>     <th>std err</th>      <th>t</th>      <th>P>|t|</th>  <th>[0.025</th>    <th>0.975]</th>  \n",
       "</tr>\n",
       "<tr>\n",
       "  <th>Intercept</th> <td>   -5.3601</td> <td>    1.675</td> <td>   -3.201</td> <td> 0.002</td> <td>   -8.668</td> <td>   -2.052</td>\n",
       "</tr>\n",
       "<tr>\n",
       "  <th>PF</th>        <td>    0.0279</td> <td>    0.002</td> <td>   12.833</td> <td> 0.000</td> <td>    0.024</td> <td>    0.032</td>\n",
       "</tr>\n",
       "<tr>\n",
       "  <th>TOPerc</th>    <td>   -0.2853</td> <td>    0.050</td> <td>   -5.680</td> <td> 0.000</td> <td>   -0.385</td> <td>   -0.186</td>\n",
       "</tr>\n",
       "<tr>\n",
       "  <th>Att_First</th> <td>    0.0284</td> <td>    0.005</td> <td>    5.529</td> <td> 0.000</td> <td>    0.018</td> <td>    0.039</td>\n",
       "</tr>\n",
       "<tr>\n",
       "  <th>Rush_Yds</th>  <td>   -0.0032</td> <td>    0.001</td> <td>   -4.041</td> <td> 0.000</td> <td>   -0.005</td> <td>   -0.002</td>\n",
       "</tr>\n",
       "</table>\n",
       "<table class=\"simpletable\">\n",
       "<tr>\n",
       "  <th>Omnibus:</th>       <td> 3.053</td> <th>  Durbin-Watson:     </th> <td>   1.537</td>\n",
       "</tr>\n",
       "<tr>\n",
       "  <th>Prob(Omnibus):</th> <td> 0.217</td> <th>  Jarque-Bera (JB):  </th> <td>   2.806</td>\n",
       "</tr>\n",
       "<tr>\n",
       "  <th>Skew:</th>          <td>-0.324</td> <th>  Prob(JB):          </th> <td>   0.246</td>\n",
       "</tr>\n",
       "<tr>\n",
       "  <th>Kurtosis:</th>      <td> 3.046</td> <th>  Cond. No.          </th> <td>2.53e+04</td>\n",
       "</tr>\n",
       "</table><br/><br/>Notes:<br/>[1] Standard Errors assume that the covariance matrix of the errors is correctly specified.<br/>[2] The condition number is large, 2.53e+04. This might indicate that there are<br/>strong multicollinearity or other numerical problems."
      ],
      "text/plain": [
       "<class 'statsmodels.iolib.summary.Summary'>\n",
       "\"\"\"\n",
       "                            OLS Regression Results                            \n",
       "==============================================================================\n",
       "Dep. Variable:                      W   R-squared:                       0.727\n",
       "Model:                            OLS   Adj. R-squared:                  0.720\n",
       "Method:                 Least Squares   F-statistic:                     103.4\n",
       "Date:                Tue, 28 Feb 2023   Prob (F-statistic):           1.02e-42\n",
       "Time:                        16:23:18   Log-Likelihood:                -304.41\n",
       "No. Observations:                 160   AIC:                             618.8\n",
       "Df Residuals:                     155   BIC:                             634.2\n",
       "Df Model:                           4                                         \n",
       "Covariance Type:            nonrobust                                         \n",
       "==============================================================================\n",
       "                 coef    std err          t      P>|t|      [0.025      0.975]\n",
       "------------------------------------------------------------------------------\n",
       "Intercept     -5.3601      1.675     -3.201      0.002      -8.668      -2.052\n",
       "PF             0.0279      0.002     12.833      0.000       0.024       0.032\n",
       "TOPerc        -0.2853      0.050     -5.680      0.000      -0.385      -0.186\n",
       "Att_First      0.0284      0.005      5.529      0.000       0.018       0.039\n",
       "Rush_Yds      -0.0032      0.001     -4.041      0.000      -0.005      -0.002\n",
       "==============================================================================\n",
       "Omnibus:                        3.053   Durbin-Watson:                   1.537\n",
       "Prob(Omnibus):                  0.217   Jarque-Bera (JB):                2.806\n",
       "Skew:                          -0.324   Prob(JB):                        0.246\n",
       "Kurtosis:                       3.046   Cond. No.                     2.53e+04\n",
       "==============================================================================\n",
       "\n",
       "Notes:\n",
       "[1] Standard Errors assume that the covariance matrix of the errors is correctly specified.\n",
       "[2] The condition number is large, 2.53e+04. This might indicate that there are\n",
       "strong multicollinearity or other numerical problems.\n",
       "\"\"\""
      ]
     },
     "execution_count": 147,
     "metadata": {},
     "output_type": "execute_result"
    }
   ],
   "source": [
    "best_fwd_reg_model = models_best['model'][4]\n",
    "best_fwd_reg_model.summary()"
   ]
  },
  {
   "cell_type": "code",
   "execution_count": 148,
   "id": "f4abd486",
   "metadata": {},
   "outputs": [
    {
     "data": {
      "text/plain": [
       "<AxesSubplot:xlabel='W'>"
      ]
     },
     "execution_count": 148,
     "metadata": {},
     "output_type": "execute_result"
    },
    {
     "data": {
      "image/png": "[encoded data removed]",
      "text/plain": [
       "<Figure size 432x288 with 1 Axes>"
      ]
     },
     "metadata": {
      "needs_background": "light"
     },
     "output_type": "display_data"
    }
   ],
   "source": [
    "# Prediction\n",
    "pred_wins = best_fwd_reg_model.predict(test)\n",
    "sns.scatterplot(x = test.W, y = pred_wins)\n",
    "sns.lineplot(x = [0,test.W.max()], y = [0,test.W.max()],color='orange')"
   ]
  },
  {
   "cell_type": "code",
   "execution_count": 149,
   "id": "fe509234",
   "metadata": {},
   "outputs": [
    {
     "data": {
      "text/plain": [
       "1.8789208922573362"
      ]
     },
     "execution_count": 149,
     "metadata": {},
     "output_type": "execute_result"
    }
   ],
   "source": [
    "RMSE = np.sqrt(((test.W - pred_wins)**2).mean())\n",
    "RMSE"
   ]
  }
 ],
 "metadata": {
  "kernelspec": {
   "display_name": "Python 3 (ipykernel)",
   "language": "python",
   "name": "python3"
  },
  "language_info": {
   "codemirror_mode": {
    "name": "ipython",
    "version": 3
   },
   "file_extension": ".py",
   "mimetype": "text/x-python",
   "name": "python",
   "nbconvert_exporter": "python",
   "pygments_lexer": "ipython3",
   "version": "3.9.12"
  }
 },
 "nbformat": 4,
 "nbformat_minor": 5
}
