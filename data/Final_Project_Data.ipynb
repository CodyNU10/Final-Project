{
 "cells": [
  {
   "cell_type": "code",
   "execution_count": 1,
   "id": "ce66c99c",
   "metadata": {},
   "outputs": [],
   "source": [
    "import pandas as pd\n",
    "import numpy as np"
   ]
  },
  {
   "cell_type": "code",
   "execution_count": 257,
   "id": "7164b89f",
   "metadata": {},
   "outputs": [],
   "source": [
    "# 2017 data\n",
    "data_2017 = pd.read_csv('2017 data')\n",
    "NFC_2017 = pd.read_csv(\"NFC Wins 2017\")\n",
    "AFC_2017 = pd.read_csv(\"AFC Wins 2017\")"
   ]
  },
  {
   "cell_type": "code",
   "execution_count": 265,
   "id": "487f8022",
   "metadata": {},
   "outputs": [],
   "source": [
    "# 2018 data\n",
    "data_2018 = pd.read_csv(\"2018 data\")\n",
    "NFC_2018 = pd.read_csv(\"NFC Wins 2018\")\n",
    "AFC_2018 = pd.read_csv(\"AFC Wins 2018\")"
   ]
  },
  {
   "cell_type": "code",
   "execution_count": 266,
   "id": "2c941900",
   "metadata": {},
   "outputs": [],
   "source": [
    "# 2019 data\n",
    "data_2019 = pd.read_csv(\"2019 data\")\n",
    "NFC_2019 = pd.read_csv(\"NFC Wins 2019\")\n",
    "AFC_2019 = pd.read_csv(\"AFC Wins 2019\")"
   ]
  },
  {
   "cell_type": "code",
   "execution_count": 267,
   "id": "d60257f2",
   "metadata": {},
   "outputs": [],
   "source": [
    "# 2020 data\n",
    "data_2020 = pd.read_csv(\"2020 data\")\n",
    "NFC_2020 = pd.read_csv(\"NFC Wins 2020\")\n",
    "AFC_2020 = pd.read_csv(\"AFC Wins 2020\")"
   ]
  },
  {
   "cell_type": "code",
   "execution_count": 268,
   "id": "255542e0",
   "metadata": {},
   "outputs": [],
   "source": [
    "# 2021 data\n",
    "data_2021 = pd.read_csv(\"2021 data\")\n",
    "NFC_2021 = pd.read_csv(\"NFC Wins 2021\")\n",
    "AFC_2021 = pd.read_csv(\"AFC Wins 2021\")"
   ]
  },
  {
   "cell_type": "code",
   "execution_count": 271,
   "id": "e7080761",
   "metadata": {},
   "outputs": [],
   "source": [
    "# function to acquire training data function\n",
    "def get_data(data, afc_wins , nfc_wins, year):\n",
    "    team_wins_year = pd.concat((nfc_wins,afc_wins),axis = 0) # combining all team win totals together\n",
    "    data_year = pd.merge(team_wins_year,data) # merging offensive data and number of wins \n",
    "    data_year = data_year.rename(columns={\"Yds.1\": \"Pass_Yds\", \"1stD.1\": \"Pass_1stD\", \"Yds.2\": \"Rush_Yds\",\"TD.1\" : \"Rush_TD\", \"1stD.2\" : \"Rush_1stD\", \"Yds.3\" : \"Pen_Yds\"})\n",
    "    return data_year\n",
    "# funning function for 2017-2021 data\n",
    "data_2017 = get_data(data_2017,AFC_2017,NFC_2017,2017)\n",
    "data_2018 = get_data(data_2018,AFC_2018,NFC_2018,2018)\n",
    "data_2019 = get_data(data_2019,AFC_2019,NFC_2019,2019)\n",
    "data_2020 = get_data(data_2020,AFC_2020,NFC_2020,2020)\n",
    "data_2021 = get_data(data_2021,AFC_2021,NFC_2021,2021)"
   ]
  },
  {
   "cell_type": "code",
   "execution_count": 274,
   "id": "49bb3ff0",
   "metadata": {
    "scrolled": true
   },
   "outputs": [],
   "source": [
    "# appending all training data together into one data set\n",
    "one = pd.concat((data_2017,data_2018)).reset_index(drop=True)\n",
    "two = pd.concat((one,data_2019)).reset_index(drop=True)\n",
    "three = pd.concat((two,data_2020)).reset_index(drop=True)\n",
    "four = pd.concat((three,data_2021)).reset_index(drop=True)"
   ]
  },
  {
   "cell_type": "code",
   "execution_count": 279,
   "id": "1e3a19c8",
   "metadata": {},
   "outputs": [],
   "source": [
    "four.to_csv('train_data_regression_model')"
   ]
  },
  {
   "cell_type": "code",
   "execution_count": 280,
   "id": "f7e46ba8",
   "metadata": {},
   "outputs": [],
   "source": [
    "# test data\n",
    "#data_2022 = pd.read_csv(\"2022_data.txt\")\n",
    "#NFC_2022 = pd.read_csv(\"NFC_2022.txt\")\n",
    "#AFC_2022 = pd.read_csv(\"AFC_2022.txt\")"
   ]
  },
  {
   "cell_type": "code",
   "execution_count": 57,
   "id": "98ff01b8",
   "metadata": {},
   "outputs": [],
   "source": [
    "# function to get test data and actual number of wins\n",
    "def get_test_data(data, afc_wins , nfc_wins, year):\n",
    "    team_wins_year = pd.concat((nfc_wins,afc_wins),axis = 0).reset_index(drop=True)\n",
    "    data = data.rename(columns={\"Yds.1\": \"Pass_Yds\", \"1stD.1\": \"Pass_1stD\", \"Yds.2\": \"Rush_Yds\",\"TD.1\" : \"Rush_TD\", \"1stD.2\" : \"Rush_1stD\", \"Yds.3\" : \"Pen_Yds\"})\n",
    "    return data,team_wins_year"
   ]
  },
  {
   "cell_type": "code",
   "execution_count": 58,
   "id": "645c9936",
   "metadata": {},
   "outputs": [],
   "source": [
    "test_data, actual = get_test_data(data_2022,AFC_2022,NFC_2022,2022)"
   ]
  },
  {
   "cell_type": "code",
   "execution_count": 65,
   "id": "8eaebed8",
   "metadata": {},
   "outputs": [],
   "source": [
    "#test_data.to_csv(\"test_data\")"
   ]
  },
  {
   "cell_type": "code",
   "execution_count": 69,
   "id": "0306aa41",
   "metadata": {},
   "outputs": [],
   "source": [
    "#actual.to_csv('Actual_Wins')"
   ]
  },
  {
   "cell_type": "code",
   "execution_count": null,
   "id": "308953b2",
   "metadata": {},
   "outputs": [],
   "source": []
  }
 ],
 "metadata": {
  "kernelspec": {
   "display_name": "Python 3 (ipykernel)",
   "language": "python",
   "name": "python3"
  },
  "language_info": {
   "codemirror_mode": {
    "name": "ipython",
    "version": 3
   },
   "file_extension": ".py",
   "mimetype": "text/x-python",
   "name": "python",
   "nbconvert_exporter": "python",
   "pygments_lexer": "ipython3",
   "version": "3.9.12"
  }
 },
 "nbformat": 4,
 "nbformat_minor": 5
}
